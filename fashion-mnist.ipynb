{
 "cells": [
  {
   "cell_type": "code",
<<<<<<< HEAD
   "execution_count": 1,
=======
   "execution_count": 55,
>>>>>>> 910cea164d08598ef4332a4063a4aaaf2e08a68b
   "metadata": {},
   "outputs": [],
   "source": [
    "import os\n",
    "import time\n",
<<<<<<< HEAD
    "from tqdm.notebook import tqdm\n",
=======
    "from tqdm import tqdm_notebook\n",
>>>>>>> 910cea164d08598ef4332a4063a4aaaf2e08a68b
    "import numpy as np\n",
    "import pandas as pd\n",
    "import matplotlib.pyplot as plt\n",
    "import seaborn as sns\n",
    "\n",
    "import torch\n",
    "import torch.nn as nn\n",
    "import torch.nn.functional as F\n",
    "import torch.optim as optim\n",
    "from torch.utils.data import Dataset, DataLoader\n",
<<<<<<< HEAD
    "from torch.utils.tensorboard import SummaryWriter\n",
    "from torchvision import datasets, transforms, utils\n",
    "from torchsummary import summary\n",
    "from sklearn.metrics import accuracy_score, confusion_matrix\n",
=======
    "#from torch.utils.tensorboard import SummaryWriter\n",
    "from torchvision import datasets, transforms, utils\n",
    "#from torchsummary import summary\n",
>>>>>>> 910cea164d08598ef4332a4063a4aaaf2e08a68b
    "\n",
    "from PIL import Image"
   ]
  },
  {
   "cell_type": "code",
<<<<<<< HEAD
   "execution_count": 2,
=======
   "execution_count": null,
>>>>>>> 910cea164d08598ef4332a4063a4aaaf2e08a68b
   "metadata": {},
   "outputs": [],
   "source": [
    "writer = SummaryWriter('runs/fashion-mnist-1')"
   ]
  },
  {
   "cell_type": "markdown",
   "metadata": {},
   "source": [
    "## 1. Load CSV files"
   ]
  },
  {
   "cell_type": "markdown",
   "metadata": {},
   "source": [
    "The csv files can be download from [this link](https://www.kaggle.com/zalando-research/fashionmnist)"
   ]
  },
  {
   "cell_type": "raw",
   "metadata": {},
   "source": [
    "\"\"\"\n",
    "#To load data from the package\n",
    "transform = transforms.Compose([\n",
    "    transforms.ToTensor(),\n",
    "    transforms.Normalize((0.5, ), (0.5, ))\n",
    "])\n",
    "\n",
    "train_set = datasets.FashionMNIST(root=\"data\", train=True, transform=transform, download=True)\n",
    "test_set = datasets.FashionMNIST(root=\"data\", train=False, transform=transform, download=True)\n",
    "\"\"\""
   ]
  },
  {
   "cell_type": "code",
<<<<<<< HEAD
   "execution_count": 3,
=======
   "execution_count": 12,
>>>>>>> 910cea164d08598ef4332a4063a4aaaf2e08a68b
   "metadata": {},
   "outputs": [
    {
     "name": "stdout",
     "output_type": "stream",
     "text": [
      "data/fashion-mnist/fashion-mnist_train.csv data/fashion-mnist/fashion-mnist_test.csv\n"
     ]
    }
   ],
   "source": [
    "data_path = os.path.join(\"data\", \"fashion-mnist\")\n",
    "train_path = os.path.join(data_path, \"fashion-mnist_train.csv\")\n",
    "test_path = os.path.join(data_path, \"fashion-mnist_test.csv\")\n",
    "print(train_path, test_path)"
   ]
  },
  {
   "cell_type": "code",
<<<<<<< HEAD
   "execution_count": 4,
=======
   "execution_count": 13,
>>>>>>> 910cea164d08598ef4332a4063a4aaaf2e08a68b
   "metadata": {},
   "outputs": [
    {
     "data": {
      "text/html": [
       "<div>\n",
       "<style scoped>\n",
       "    .dataframe tbody tr th:only-of-type {\n",
       "        vertical-align: middle;\n",
       "    }\n",
       "\n",
       "    .dataframe tbody tr th {\n",
       "        vertical-align: top;\n",
       "    }\n",
       "\n",
       "    .dataframe thead th {\n",
       "        text-align: right;\n",
       "    }\n",
       "</style>\n",
       "<table border=\"1\" class=\"dataframe\">\n",
       "  <thead>\n",
       "    <tr style=\"text-align: right;\">\n",
       "      <th></th>\n",
       "      <th>label</th>\n",
       "      <th>pixel1</th>\n",
       "      <th>pixel2</th>\n",
       "      <th>pixel3</th>\n",
       "      <th>pixel4</th>\n",
       "      <th>pixel5</th>\n",
       "      <th>pixel6</th>\n",
       "      <th>pixel7</th>\n",
       "      <th>pixel8</th>\n",
       "      <th>pixel9</th>\n",
       "      <th>...</th>\n",
       "      <th>pixel775</th>\n",
       "      <th>pixel776</th>\n",
       "      <th>pixel777</th>\n",
       "      <th>pixel778</th>\n",
       "      <th>pixel779</th>\n",
       "      <th>pixel780</th>\n",
       "      <th>pixel781</th>\n",
       "      <th>pixel782</th>\n",
       "      <th>pixel783</th>\n",
       "      <th>pixel784</th>\n",
       "    </tr>\n",
       "  </thead>\n",
       "  <tbody>\n",
       "    <tr>\n",
       "      <th>0</th>\n",
       "      <td>2</td>\n",
       "      <td>0</td>\n",
       "      <td>0</td>\n",
       "      <td>0</td>\n",
       "      <td>0</td>\n",
       "      <td>0</td>\n",
       "      <td>0</td>\n",
       "      <td>0</td>\n",
       "      <td>0</td>\n",
       "      <td>0</td>\n",
       "      <td>...</td>\n",
       "      <td>0</td>\n",
       "      <td>0</td>\n",
       "      <td>0</td>\n",
       "      <td>0</td>\n",
       "      <td>0</td>\n",
       "      <td>0</td>\n",
       "      <td>0</td>\n",
       "      <td>0</td>\n",
       "      <td>0</td>\n",
       "      <td>0</td>\n",
       "    </tr>\n",
       "    <tr>\n",
       "      <th>1</th>\n",
       "      <td>9</td>\n",
       "      <td>0</td>\n",
       "      <td>0</td>\n",
       "      <td>0</td>\n",
       "      <td>0</td>\n",
       "      <td>0</td>\n",
       "      <td>0</td>\n",
       "      <td>0</td>\n",
       "      <td>0</td>\n",
       "      <td>0</td>\n",
       "      <td>...</td>\n",
       "      <td>0</td>\n",
       "      <td>0</td>\n",
       "      <td>0</td>\n",
       "      <td>0</td>\n",
       "      <td>0</td>\n",
       "      <td>0</td>\n",
       "      <td>0</td>\n",
       "      <td>0</td>\n",
       "      <td>0</td>\n",
       "      <td>0</td>\n",
       "    </tr>\n",
       "    <tr>\n",
       "      <th>2</th>\n",
       "      <td>6</td>\n",
       "      <td>0</td>\n",
       "      <td>0</td>\n",
       "      <td>0</td>\n",
       "      <td>0</td>\n",
       "      <td>0</td>\n",
       "      <td>0</td>\n",
       "      <td>0</td>\n",
       "      <td>5</td>\n",
       "      <td>0</td>\n",
       "      <td>...</td>\n",
       "      <td>0</td>\n",
       "      <td>0</td>\n",
       "      <td>0</td>\n",
       "      <td>30</td>\n",
       "      <td>43</td>\n",
       "      <td>0</td>\n",
       "      <td>0</td>\n",
       "      <td>0</td>\n",
       "      <td>0</td>\n",
       "      <td>0</td>\n",
       "    </tr>\n",
       "    <tr>\n",
       "      <th>3</th>\n",
       "      <td>0</td>\n",
       "      <td>0</td>\n",
       "      <td>0</td>\n",
       "      <td>0</td>\n",
       "      <td>1</td>\n",
       "      <td>2</td>\n",
       "      <td>0</td>\n",
       "      <td>0</td>\n",
       "      <td>0</td>\n",
       "      <td>0</td>\n",
       "      <td>...</td>\n",
       "      <td>3</td>\n",
       "      <td>0</td>\n",
       "      <td>0</td>\n",
       "      <td>0</td>\n",
       "      <td>0</td>\n",
       "      <td>1</td>\n",
       "      <td>0</td>\n",
       "      <td>0</td>\n",
       "      <td>0</td>\n",
       "      <td>0</td>\n",
       "    </tr>\n",
       "    <tr>\n",
       "      <th>4</th>\n",
       "      <td>3</td>\n",
       "      <td>0</td>\n",
       "      <td>0</td>\n",
       "      <td>0</td>\n",
       "      <td>0</td>\n",
       "      <td>0</td>\n",
       "      <td>0</td>\n",
       "      <td>0</td>\n",
       "      <td>0</td>\n",
       "      <td>0</td>\n",
       "      <td>...</td>\n",
       "      <td>0</td>\n",
       "      <td>0</td>\n",
       "      <td>0</td>\n",
       "      <td>0</td>\n",
       "      <td>0</td>\n",
       "      <td>0</td>\n",
       "      <td>0</td>\n",
       "      <td>0</td>\n",
       "      <td>0</td>\n",
       "      <td>0</td>\n",
       "    </tr>\n",
       "  </tbody>\n",
       "</table>\n",
       "<p>5 rows × 785 columns</p>\n",
       "</div>"
      ],
      "text/plain": [
       "   label  pixel1  pixel2  pixel3  pixel4  pixel5  pixel6  pixel7  pixel8  \\\n",
       "0      2       0       0       0       0       0       0       0       0   \n",
       "1      9       0       0       0       0       0       0       0       0   \n",
       "2      6       0       0       0       0       0       0       0       5   \n",
       "3      0       0       0       0       1       2       0       0       0   \n",
       "4      3       0       0       0       0       0       0       0       0   \n",
       "\n",
<<<<<<< HEAD
       "   pixel9  ...  pixel775  pixel776  pixel777  pixel778  pixel779  pixel780  \\\n",
       "0       0  ...         0         0         0         0         0         0   \n",
       "1       0  ...         0         0         0         0         0         0   \n",
       "2       0  ...         0         0         0        30        43         0   \n",
       "3       0  ...         3         0         0         0         0         1   \n",
       "4       0  ...         0         0         0         0         0         0   \n",
       "\n",
       "   pixel781  pixel782  pixel783  pixel784  \n",
       "0         0         0         0         0  \n",
       "1         0         0         0         0  \n",
       "2         0         0         0         0  \n",
       "3         0         0         0         0  \n",
       "4         0         0         0         0  \n",
=======
       "   pixel9    ...     pixel775  pixel776  pixel777  pixel778  pixel779  \\\n",
       "0       0    ...            0         0         0         0         0   \n",
       "1       0    ...            0         0         0         0         0   \n",
       "2       0    ...            0         0         0        30        43   \n",
       "3       0    ...            3         0         0         0         0   \n",
       "4       0    ...            0         0         0         0         0   \n",
       "\n",
       "   pixel780  pixel781  pixel782  pixel783  pixel784  \n",
       "0         0         0         0         0         0  \n",
       "1         0         0         0         0         0  \n",
       "2         0         0         0         0         0  \n",
       "3         1         0         0         0         0  \n",
       "4         0         0         0         0         0  \n",
>>>>>>> 910cea164d08598ef4332a4063a4aaaf2e08a68b
       "\n",
       "[5 rows x 785 columns]"
      ]
     },
<<<<<<< HEAD
     "execution_count": 4,
=======
     "execution_count": 13,
>>>>>>> 910cea164d08598ef4332a4063a4aaaf2e08a68b
     "metadata": {},
     "output_type": "execute_result"
    }
   ],
   "source": [
<<<<<<< HEAD
    "train_df = pd.read_csv(train_path) \n",
=======
    "train_df = pd.read_csv(train_path)\n",
>>>>>>> 910cea164d08598ef4332a4063a4aaaf2e08a68b
    "train_df.head()"
   ]
  },
  {
   "cell_type": "code",
<<<<<<< HEAD
   "execution_count": 5,
=======
   "execution_count": 14,
>>>>>>> 910cea164d08598ef4332a4063a4aaaf2e08a68b
   "metadata": {},
   "outputs": [
    {
     "data": {
      "text/html": [
       "<div>\n",
       "<style scoped>\n",
       "    .dataframe tbody tr th:only-of-type {\n",
       "        vertical-align: middle;\n",
       "    }\n",
       "\n",
       "    .dataframe tbody tr th {\n",
       "        vertical-align: top;\n",
       "    }\n",
       "\n",
       "    .dataframe thead th {\n",
       "        text-align: right;\n",
       "    }\n",
       "</style>\n",
       "<table border=\"1\" class=\"dataframe\">\n",
       "  <thead>\n",
       "    <tr style=\"text-align: right;\">\n",
       "      <th></th>\n",
       "      <th>label</th>\n",
       "      <th>pixel1</th>\n",
       "      <th>pixel2</th>\n",
       "      <th>pixel3</th>\n",
       "      <th>pixel4</th>\n",
       "      <th>pixel5</th>\n",
       "      <th>pixel6</th>\n",
       "      <th>pixel7</th>\n",
       "      <th>pixel8</th>\n",
       "      <th>pixel9</th>\n",
       "      <th>...</th>\n",
       "      <th>pixel775</th>\n",
       "      <th>pixel776</th>\n",
       "      <th>pixel777</th>\n",
       "      <th>pixel778</th>\n",
       "      <th>pixel779</th>\n",
       "      <th>pixel780</th>\n",
       "      <th>pixel781</th>\n",
       "      <th>pixel782</th>\n",
       "      <th>pixel783</th>\n",
       "      <th>pixel784</th>\n",
       "    </tr>\n",
       "  </thead>\n",
       "  <tbody>\n",
       "    <tr>\n",
       "      <th>0</th>\n",
       "      <td>0</td>\n",
       "      <td>0</td>\n",
       "      <td>0</td>\n",
       "      <td>0</td>\n",
       "      <td>0</td>\n",
       "      <td>0</td>\n",
       "      <td>0</td>\n",
       "      <td>0</td>\n",
       "      <td>9</td>\n",
       "      <td>8</td>\n",
       "      <td>...</td>\n",
       "      <td>103</td>\n",
       "      <td>87</td>\n",
       "      <td>56</td>\n",
       "      <td>0</td>\n",
       "      <td>0</td>\n",
       "      <td>0</td>\n",
       "      <td>0</td>\n",
       "      <td>0</td>\n",
       "      <td>0</td>\n",
       "      <td>0</td>\n",
       "    </tr>\n",
       "    <tr>\n",
       "      <th>1</th>\n",
       "      <td>1</td>\n",
       "      <td>0</td>\n",
       "      <td>0</td>\n",
       "      <td>0</td>\n",
       "      <td>0</td>\n",
       "      <td>0</td>\n",
       "      <td>0</td>\n",
       "      <td>0</td>\n",
       "      <td>0</td>\n",
       "      <td>0</td>\n",
       "      <td>...</td>\n",
       "      <td>34</td>\n",
       "      <td>0</td>\n",
       "      <td>0</td>\n",
       "      <td>0</td>\n",
       "      <td>0</td>\n",
       "      <td>0</td>\n",
       "      <td>0</td>\n",
       "      <td>0</td>\n",
       "      <td>0</td>\n",
       "      <td>0</td>\n",
       "    </tr>\n",
       "    <tr>\n",
       "      <th>2</th>\n",
       "      <td>2</td>\n",
       "      <td>0</td>\n",
       "      <td>0</td>\n",
       "      <td>0</td>\n",
       "      <td>0</td>\n",
       "      <td>0</td>\n",
       "      <td>0</td>\n",
       "      <td>14</td>\n",
       "      <td>53</td>\n",
       "      <td>99</td>\n",
       "      <td>...</td>\n",
       "      <td>0</td>\n",
       "      <td>0</td>\n",
       "      <td>0</td>\n",
       "      <td>0</td>\n",
       "      <td>63</td>\n",
       "      <td>53</td>\n",
       "      <td>31</td>\n",
       "      <td>0</td>\n",
       "      <td>0</td>\n",
       "      <td>0</td>\n",
       "    </tr>\n",
       "    <tr>\n",
       "      <th>3</th>\n",
       "      <td>2</td>\n",
       "      <td>0</td>\n",
       "      <td>0</td>\n",
       "      <td>0</td>\n",
       "      <td>0</td>\n",
       "      <td>0</td>\n",
       "      <td>0</td>\n",
       "      <td>0</td>\n",
       "      <td>0</td>\n",
       "      <td>0</td>\n",
       "      <td>...</td>\n",
       "      <td>137</td>\n",
       "      <td>126</td>\n",
       "      <td>140</td>\n",
       "      <td>0</td>\n",
       "      <td>133</td>\n",
       "      <td>224</td>\n",
       "      <td>222</td>\n",
       "      <td>56</td>\n",
       "      <td>0</td>\n",
       "      <td>0</td>\n",
       "    </tr>\n",
       "    <tr>\n",
       "      <th>4</th>\n",
       "      <td>3</td>\n",
       "      <td>0</td>\n",
       "      <td>0</td>\n",
       "      <td>0</td>\n",
       "      <td>0</td>\n",
       "      <td>0</td>\n",
       "      <td>0</td>\n",
       "      <td>0</td>\n",
       "      <td>0</td>\n",
       "      <td>0</td>\n",
       "      <td>...</td>\n",
       "      <td>0</td>\n",
       "      <td>0</td>\n",
       "      <td>0</td>\n",
       "      <td>0</td>\n",
       "      <td>0</td>\n",
       "      <td>0</td>\n",
       "      <td>0</td>\n",
       "      <td>0</td>\n",
       "      <td>0</td>\n",
       "      <td>0</td>\n",
       "    </tr>\n",
       "  </tbody>\n",
       "</table>\n",
       "<p>5 rows × 785 columns</p>\n",
       "</div>"
      ],
      "text/plain": [
       "   label  pixel1  pixel2  pixel3  pixel4  pixel5  pixel6  pixel7  pixel8  \\\n",
       "0      0       0       0       0       0       0       0       0       9   \n",
       "1      1       0       0       0       0       0       0       0       0   \n",
       "2      2       0       0       0       0       0       0      14      53   \n",
       "3      2       0       0       0       0       0       0       0       0   \n",
       "4      3       0       0       0       0       0       0       0       0   \n",
       "\n",
<<<<<<< HEAD
       "   pixel9  ...  pixel775  pixel776  pixel777  pixel778  pixel779  pixel780  \\\n",
       "0       8  ...       103        87        56         0         0         0   \n",
       "1       0  ...        34         0         0         0         0         0   \n",
       "2      99  ...         0         0         0         0        63        53   \n",
       "3       0  ...       137       126       140         0       133       224   \n",
       "4       0  ...         0         0         0         0         0         0   \n",
       "\n",
       "   pixel781  pixel782  pixel783  pixel784  \n",
       "0         0         0         0         0  \n",
       "1         0         0         0         0  \n",
       "2        31         0         0         0  \n",
       "3       222        56         0         0  \n",
       "4         0         0         0         0  \n",
=======
       "   pixel9    ...     pixel775  pixel776  pixel777  pixel778  pixel779  \\\n",
       "0       8    ...          103        87        56         0         0   \n",
       "1       0    ...           34         0         0         0         0   \n",
       "2      99    ...            0         0         0         0        63   \n",
       "3       0    ...          137       126       140         0       133   \n",
       "4       0    ...            0         0         0         0         0   \n",
       "\n",
       "   pixel780  pixel781  pixel782  pixel783  pixel784  \n",
       "0         0         0         0         0         0  \n",
       "1         0         0         0         0         0  \n",
       "2        53        31         0         0         0  \n",
       "3       224       222        56         0         0  \n",
       "4         0         0         0         0         0  \n",
>>>>>>> 910cea164d08598ef4332a4063a4aaaf2e08a68b
       "\n",
       "[5 rows x 785 columns]"
      ]
     },
<<<<<<< HEAD
     "execution_count": 5,
=======
     "execution_count": 14,
>>>>>>> 910cea164d08598ef4332a4063a4aaaf2e08a68b
     "metadata": {},
     "output_type": "execute_result"
    }
   ],
   "source": [
    "test_df = pd.read_csv(test_path)\n",
    "test_df.head()"
   ]
  },
  {
   "cell_type": "code",
<<<<<<< HEAD
   "execution_count": 6,
=======
   "execution_count": 5,
>>>>>>> 910cea164d08598ef4332a4063a4aaaf2e08a68b
   "metadata": {},
   "outputs": [
    {
     "name": "stdout",
     "output_type": "stream",
     "text": [
      "(60000, 785) (10000, 785)\n",
      "<class 'pandas.core.frame.DataFrame'>\n",
      "RangeIndex: 60000 entries, 0 to 59999\n",
      "Columns: 785 entries, label to pixel784\n",
      "dtypes: int64(785)\n",
      "memory usage: 359.3 MB\n",
      "None\n",
      "<class 'pandas.core.frame.DataFrame'>\n",
      "RangeIndex: 10000 entries, 0 to 9999\n",
      "Columns: 785 entries, label to pixel784\n",
      "dtypes: int64(785)\n",
      "memory usage: 59.9 MB\n",
      "None\n"
     ]
    }
   ],
   "source": [
    "print(train_df.shape, test_df.shape)\n",
    "print(train_df.info())\n",
    "print(test_df.info())"
   ]
  },
  {
   "cell_type": "code",
<<<<<<< HEAD
   "execution_count": 7,
=======
   "execution_count": 6,
>>>>>>> 910cea164d08598ef4332a4063a4aaaf2e08a68b
   "metadata": {},
   "outputs": [
    {
     "data": {
      "text/plain": [
       "255"
      ]
     },
<<<<<<< HEAD
     "execution_count": 7,
=======
     "execution_count": 6,
>>>>>>> 910cea164d08598ef4332a4063a4aaaf2e08a68b
     "metadata": {},
     "output_type": "execute_result"
    }
   ],
   "source": [
    "train_df.iloc[0, 1:].max()"
   ]
  },
  {
   "cell_type": "code",
<<<<<<< HEAD
   "execution_count": 8,
=======
   "execution_count": 7,
>>>>>>> 910cea164d08598ef4332a4063a4aaaf2e08a68b
   "metadata": {},
   "outputs": [
    {
     "data": {
      "text/plain": [
       "9    6000\n",
       "8    6000\n",
       "7    6000\n",
       "6    6000\n",
       "5    6000\n",
       "4    6000\n",
       "3    6000\n",
       "2    6000\n",
       "1    6000\n",
       "0    6000\n",
       "Name: label, dtype: int64"
      ]
     },
<<<<<<< HEAD
     "execution_count": 8,
=======
     "execution_count": 7,
>>>>>>> 910cea164d08598ef4332a4063a4aaaf2e08a68b
     "metadata": {},
     "output_type": "execute_result"
    }
   ],
   "source": [
    "train_df['label'].value_counts()"
   ]
  },
  {
   "cell_type": "code",
<<<<<<< HEAD
   "execution_count": 9,
=======
   "execution_count": 8,
>>>>>>> 910cea164d08598ef4332a4063a4aaaf2e08a68b
   "metadata": {},
   "outputs": [
    {
     "data": {
      "text/plain": [
       "7    1000\n",
       "6    1000\n",
       "5    1000\n",
       "4    1000\n",
       "3    1000\n",
       "2    1000\n",
       "9    1000\n",
       "1    1000\n",
       "8    1000\n",
       "0    1000\n",
       "Name: label, dtype: int64"
      ]
     },
<<<<<<< HEAD
     "execution_count": 9,
=======
     "execution_count": 8,
>>>>>>> 910cea164d08598ef4332a4063a4aaaf2e08a68b
     "metadata": {},
     "output_type": "execute_result"
    }
   ],
   "source": [
    "test_df['label'].value_counts()"
   ]
  },
  {
   "cell_type": "markdown",
   "metadata": {},
   "source": [
    "## 2. Format into images"
   ]
  },
  {
   "cell_type": "markdown",
   "metadata": {},
   "source": [
    "Loading all the data in the CSV file is not memory efficient. Also, We cannot understand the data in raw format. Hence, I am going to format this file into images in the following format.\n",
    "* train/0/xxx.png\n",
    "* train/1/xxx.png\n",
    "* train/2/xx.png\n",
    "* ..."
   ]
  },
  {
   "cell_type": "code",
<<<<<<< HEAD
   "execution_count": 10,
=======
   "execution_count": 9,
>>>>>>> 910cea164d08598ef4332a4063a4aaaf2e08a68b
   "metadata": {},
   "outputs": [
    {
     "name": "stdout",
     "output_type": "stream",
     "text": [
      "data/fashion-mnist/train data/fashion-mnist/test\n"
     ]
    }
   ],
   "source": [
    "train_path = os.path.join(data_path, \"train\")\n",
    "test_path = os.path.join(data_path, \"test\")\n",
    "print(train_path, test_path)"
   ]
  },
  {
   "cell_type": "code",
<<<<<<< HEAD
   "execution_count": 11,
=======
   "execution_count": 10,
>>>>>>> 910cea164d08598ef4332a4063a4aaaf2e08a68b
   "metadata": {},
   "outputs": [],
   "source": [
    "for path in [train_path, test_path]:\n",
    "    if not os.path.exists(path):\n",
    "        os.mkdir(path)"
   ]
  },
  {
   "cell_type": "code",
<<<<<<< HEAD
   "execution_count": 12,
=======
   "execution_count": 11,
>>>>>>> 910cea164d08598ef4332a4063a4aaaf2e08a68b
   "metadata": {},
   "outputs": [
    {
     "name": "stdout",
     "output_type": "stream",
     "text": [
      "[2, 9, 6, 0, 3, 4, 5, 8, 7, 1]\n"
     ]
    }
   ],
   "source": [
    "class_labels = train_df['label'].unique().tolist()\n",
    "print(class_labels)"
   ]
  },
  {
   "cell_type": "code",
<<<<<<< HEAD
   "execution_count": 13,
=======
   "execution_count": 12,
>>>>>>> 910cea164d08598ef4332a4063a4aaaf2e08a68b
   "metadata": {},
   "outputs": [],
   "source": [
    "for path in [train_path, test_path]:\n",
    "    for class_label in class_labels:\n",
    "        class_path = os.path.join(path, str(class_label))\n",
    "        if not os.path.exists(class_path):\n",
    "            os.mkdir(class_path)"
   ]
  },
  {
   "cell_type": "code",
<<<<<<< HEAD
   "execution_count": 14,
   "metadata": {},
   "outputs": [
    {
     "name": "stderr",
     "output_type": "stream",
     "text": [
      "100%|██████████| 60000/60000 [01:30<00:00, 663.49it/s] \n"
=======
   "execution_count": 13,
   "metadata": {},
   "outputs": [
    {
     "data": {
      "application/vnd.jupyter.widget-view+json": {
       "model_id": "1fe1b593627c41898880e17cca934bd9",
       "version_major": 2,
       "version_minor": 0
      },
      "text/plain": [
       "HBox(children=(IntProgress(value=0, max=60000), HTML(value='')))"
      ]
     },
     "metadata": {},
     "output_type": "display_data"
    },
    {
     "name": "stdout",
     "output_type": "stream",
     "text": [
      "\n"
>>>>>>> 910cea164d08598ef4332a4063a4aaaf2e08a68b
     ]
    }
   ],
   "source": [
<<<<<<< HEAD
    "for row_id, row in tqdm(train_df.iterrows(), total=len(train_df)):\n",
=======
    "for row_id, row in tqdm_notebook(train_df.iterrows(), total=len(train_df)):\n",
>>>>>>> 910cea164d08598ef4332a4063a4aaaf2e08a68b
    "    label = row['label']\n",
    "    image_path = os.path.join(data_path, \"train\", str(label), \"{}.png\".format(row_id))\n",
    "    pixels = row.iloc[1:].values.astype(\"uint8\")\n",
    "    pixels = pixels.reshape(28, 28)\n",
    "    image = Image.fromarray(pixels)\n",
    "    image.save(image_path)"
   ]
  },
  {
   "cell_type": "code",
<<<<<<< HEAD
   "execution_count": 15,
   "metadata": {},
   "outputs": [
    {
     "name": "stderr",
     "output_type": "stream",
     "text": [
      "100%|██████████| 10000/10000 [00:12<00:00, 805.00it/s]\n"
=======
   "execution_count": 14,
   "metadata": {},
   "outputs": [
    {
     "data": {
      "application/vnd.jupyter.widget-view+json": {
       "model_id": "a243ae93ba0e412da84f35a122627e07",
       "version_major": 2,
       "version_minor": 0
      },
      "text/plain": [
       "HBox(children=(IntProgress(value=0, max=10000), HTML(value='')))"
      ]
     },
     "metadata": {},
     "output_type": "display_data"
    },
    {
     "name": "stdout",
     "output_type": "stream",
     "text": [
      "\n"
>>>>>>> 910cea164d08598ef4332a4063a4aaaf2e08a68b
     ]
    }
   ],
   "source": [
<<<<<<< HEAD
    "for row_id, row in tqdm(test_df.iterrows(), total=len(test_df)):\n",
=======
    "for row_id, row in tqdm_notebook(test_df.iterrows(), total=len(test_df)):\n",
>>>>>>> 910cea164d08598ef4332a4063a4aaaf2e08a68b
    "    label = row['label']\n",
    "    image_path = os.path.join(data_path, \"test\", str(label), \"{}.png\".format(row_id))\n",
    "    pixels = row.iloc[1:].values.astype(\"uint8\")\n",
    "    pixels = pixels.reshape(28, 28)\n",
    "    image = Image.fromarray(pixels)\n",
    "    image.save(image_path)"
   ]
  },
  {
   "cell_type": "markdown",
   "metadata": {},
   "source": [
    "**Note**: `del dataframe` does not release memory. So restart the notebook and start executimg from the next section after generating images."
   ]
  },
  {
   "cell_type": "markdown",
   "metadata": {},
   "source": [
    "## 3. Define dataset"
   ]
  },
  {
   "cell_type": "code",
<<<<<<< HEAD
   "execution_count": 4,
=======
   "execution_count": 2,
>>>>>>> 910cea164d08598ef4332a4063a4aaaf2e08a68b
   "metadata": {},
   "outputs": [
    {
     "name": "stdout",
     "output_type": "stream",
     "text": [
      "data/fashion-mnist/train data/fashion-mnist/test\n"
     ]
    }
   ],
   "source": [
    "data_path = os.path.join(\"data\", \"fashion-mnist\")\n",
    "train_path = os.path.join(data_path, \"train\")\n",
    "test_path = os.path.join(data_path, \"test\")\n",
    "print(train_path, test_path)"
   ]
  },
  {
   "cell_type": "markdown",
   "metadata": {},
   "source": [
    "`torchvision.transforms.ToTensor()` squishes the value range from [0, 255] to [0., 1.]"
   ]
  },
  {
   "cell_type": "code",
<<<<<<< HEAD
   "execution_count": 5,
=======
   "execution_count": 20,
>>>>>>> 910cea164d08598ef4332a4063a4aaaf2e08a68b
   "metadata": {},
   "outputs": [],
   "source": [
    "mean = 0.5\n",
    "sd = 0.5\n",
    "transform = transforms.Compose([\n",
    "    transforms.Grayscale(),\n",
    "    transforms.ToTensor(),\n",
    "    transforms.Normalize((mean, ), (sd, ))\n",
    "])"
   ]
  },
  {
   "cell_type": "markdown",
   "metadata": {},
   "source": [
    "We can use `torchvision.datasets.ImageFolder()` to define the dataset instead of writing a dataset class from scratch."
   ]
  },
  {
   "cell_type": "code",
<<<<<<< HEAD
   "execution_count": 6,
=======
   "execution_count": 26,
>>>>>>> 910cea164d08598ef4332a4063a4aaaf2e08a68b
   "metadata": {},
   "outputs": [],
   "source": [
    "train_set = datasets.ImageFolder(root=train_path, transform=transform)\n",
    "test_set = datasets.ImageFolder(root=test_path, transform=transform)"
   ]
  },
  {
   "cell_type": "markdown",
   "metadata": {},
   "source": [
    "## 4. Define dataloader"
   ]
  },
  {
   "cell_type": "code",
<<<<<<< HEAD
   "execution_count": 7,
   "metadata": {},
   "outputs": [
    {
     "name": "stdout",
     "output_type": "stream",
     "text": [
      "4\n"
     ]
    }
   ],
   "source": [
    "num_cpus = os.cpu_count()\n",
    "print(num_cpus)"
   ]
  },
  {
   "cell_type": "code",
   "execution_count": 8,
   "metadata": {},
   "outputs": [],
   "source": [
    "train_batch_size = 4\n",
    "test_batch_size = 4"
   ]
  },
  {
   "cell_type": "code",
   "execution_count": 9,
   "metadata": {},
   "outputs": [],
   "source": [
    "train_loader = DataLoader(train_set, batch_size=train_batch_size, shuffle=True, num_workers=num_cpus) \n",
    "test_loader = DataLoader(test_set, batch_size=4, shuffle=test_batch_size, num_workers=num_cpus)"
=======
   "execution_count": 27,
   "metadata": {},
   "outputs": [],
   "source": [
    "train_loader = DataLoader(train_set, batch_size=4, shuffle=True, num_workers=4) \n",
    "test_loader = DataLoader(test_set, batch_size=4, shuffle=False, num_workers=4)"
>>>>>>> 910cea164d08598ef4332a4063a4aaaf2e08a68b
   ]
  },
  {
   "cell_type": "markdown",
   "metadata": {},
   "source": [
    "## 5. Define utilities"
   ]
  },
  {
   "cell_type": "code",
<<<<<<< HEAD
   "execution_count": 10,
=======
   "execution_count": 28,
>>>>>>> 910cea164d08598ef4332a4063a4aaaf2e08a68b
   "metadata": {},
   "outputs": [],
   "source": [
    "label_to_name = {\n",
    "    \"0\": \"t-shirt\",\n",
    "    \"1\": \"trouser\",\n",
    "    \"2\": \"pullover\",\n",
    "    \"3\": \"dress\",\n",
    "    \"4\": \"coat\",\n",
    "    \"5\": \"sandal\", \n",
    "    \"6\": \"shirt\",\n",
    "    \"7\": \"sneaker\",\n",
    "    \"8\": \"bag\",\n",
    "    \"9\": \"ankle_boot\"\n",
    "}"
   ]
  },
  {
   "cell_type": "code",
<<<<<<< HEAD
   "execution_count": 11,
=======
   "execution_count": 29,
>>>>>>> 910cea164d08598ef4332a4063a4aaaf2e08a68b
   "metadata": {},
   "outputs": [
    {
     "name": "stdout",
     "output_type": "stream",
     "text": [
      "{'t-shirt': '0', 'trouser': '1', 'pullover': '2', 'dress': '3', 'coat': '4', 'sandal': '5', 'shirt': '6', 'sneaker': '7', 'bag': '8', 'ankle_boot': '9'}\n"
     ]
    }
   ],
   "source": [
    "name_to_label = {v: k for k, v in label_to_name.items()}\n",
    "print(name_to_label)"
   ]
  },
  {
   "cell_type": "code",
<<<<<<< HEAD
   "execution_count": 12,
=======
   "execution_count": 43,
>>>>>>> 910cea164d08598ef4332a4063a4aaaf2e08a68b
   "metadata": {},
   "outputs": [],
   "source": [
    "def plot_image(image_tensor, title=\"\"):\n",
    "    \"\"\"\n",
    "    Arguments:\n",
    "    image_tensor -- tensor of Size([1, n_h, n_w]) / Size([3, n_h+4, n_w*m+4])\n",
    "    \"\"\"\n",
    "    # image_tensor.squeeze() -> doesn't work for grids of Size([3, n_h+4, n_c*m+4])\n",
    "    image_tensor = image_tensor.mean(dim = 0) # Size([28, 28])\n",
    "    image_tensor = (image_tensor * sd) + mean\n",
    "    image_tensor = image_tensor * 255 # not necessary\n",
    "    image_array = image_tensor.numpy()\n",
    "    plt.imshow(image_array, cmap='Greys')\n",
    "    plt.title(title)\n",
    "    return plt.show()"
   ]
  },
  {
   "cell_type": "code",
<<<<<<< HEAD
   "execution_count": 13,
=======
   "execution_count": 45,
>>>>>>> 910cea164d08598ef4332a4063a4aaaf2e08a68b
   "metadata": {},
   "outputs": [
    {
     "data": {
<<<<<<< HEAD
      "image/png": "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\n",
=======
      "image/png": "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\n",
>>>>>>> 910cea164d08598ef4332a4063a4aaaf2e08a68b
      "text/plain": [
       "<Figure size 432x288 with 1 Axes>"
      ]
     },
     "metadata": {
      "needs_background": "light"
     },
     "output_type": "display_data"
    }
   ],
   "source": [
    "train_iter = iter(train_loader)\n",
    "X, Y = train_iter.next()\n",
    "image_grid = utils.make_grid(X)\n",
    "names = [label_to_name[str(label.item())] for label in Y]\n",
    "plot_image(image_grid, title=names)"
   ]
  },
  {
   "cell_type": "markdown",
   "metadata": {},
   "source": [
    "## 6. Define model"
   ]
  },
  {
<<<<<<< HEAD
   "cell_type": "code",
   "execution_count": 14,
   "metadata": {},
   "outputs": [
    {
     "name": "stdout",
     "output_type": "stream",
     "text": [
      "cpu\n"
     ]
    }
   ],
   "source": [
    "device = \"cuda:0\" if torch.cuda.is_available() else \"cpu\"\n",
    "device = torch.device(device)\n",
    "print(device)"
   ]
  },
  {
=======
>>>>>>> 910cea164d08598ef4332a4063a4aaaf2e08a68b
   "cell_type": "markdown",
   "metadata": {},
   "source": [
    "The following architecture is modified from the LeNet"
   ]
  },
  {
   "cell_type": "code",
<<<<<<< HEAD
   "execution_count": 15,
=======
   "execution_count": 48,
>>>>>>> 910cea164d08598ef4332a4063a4aaaf2e08a68b
   "metadata": {},
   "outputs": [],
   "source": [
    "class Net(nn.Module):\n",
    "    \n",
    "    def __init__(self):\n",
    "        super(Net, self).__init__()\n",
    "        self.conv1 = nn.Conv2d(in_channels=1, out_channels=6, kernel_size=5, stride=1, padding=0) # [m, 6, 24, 24]\n",
    "        self.pool1 = nn.MaxPool2d(kernel_size=2, stride=2) # [m, 6, 12, 12]\n",
    "        self.conv2 = nn.Conv2d(in_channels=6, out_channels=16, kernel_size=5, stride=1, padding=0) # [m, 16, 8, 8]\n",
    "        self.pool2 = nn.MaxPool2d(kernel_size=2, stride=2) # [m, 16, 4, 4]\n",
    "        self.fc3 = nn.Linear(in_features=16*4*4, out_features=120) # [m, 120]\n",
    "        self.fc4 = nn.Linear(in_features=120, out_features=84) # [m, 84]\n",
    "        self.fc5 = nn.Linear(in_features=84, out_features=10) # [m, 10]\n",
    "        \n",
    "    def forward(self, X):\n",
    "        X = self.pool1(F.relu(self.conv1(X)))\n",
    "        X = self.pool2(F.relu(self.conv2(X)))\n",
    "        X = X.view(-1, 16*4*4)\n",
    "        X = F.relu(self.fc3(X))\n",
    "        X = F.relu(self.fc4(X))\n",
    "        X = self.fc5(X) \n",
    "        return X"
   ]
  },
  {
   "cell_type": "code",
<<<<<<< HEAD
   "execution_count": 16,
=======
   "execution_count": 51,
>>>>>>> 910cea164d08598ef4332a4063a4aaaf2e08a68b
   "metadata": {},
   "outputs": [
    {
     "name": "stdout",
     "output_type": "stream",
     "text": [
<<<<<<< HEAD
      "DataParallel(\n",
      "  (module): Net(\n",
      "    (conv1): Conv2d(1, 6, kernel_size=(5, 5), stride=(1, 1))\n",
      "    (pool1): MaxPool2d(kernel_size=2, stride=2, padding=0, dilation=1, ceil_mode=False)\n",
      "    (conv2): Conv2d(6, 16, kernel_size=(5, 5), stride=(1, 1))\n",
      "    (pool2): MaxPool2d(kernel_size=2, stride=2, padding=0, dilation=1, ceil_mode=False)\n",
      "    (fc3): Linear(in_features=256, out_features=120, bias=True)\n",
      "    (fc4): Linear(in_features=120, out_features=84, bias=True)\n",
      "    (fc5): Linear(in_features=84, out_features=10, bias=True)\n",
      "  )\n",
=======
      "Net(\n",
      "  (conv1): Conv2d(1, 6, kernel_size=(5, 5), stride=(1, 1))\n",
      "  (pool1): MaxPool2d(kernel_size=2, stride=2, padding=0, dilation=1, ceil_mode=False)\n",
      "  (conv2): Conv2d(6, 16, kernel_size=(5, 5), stride=(1, 1))\n",
      "  (pool2): MaxPool2d(kernel_size=2, stride=2, padding=0, dilation=1, ceil_mode=False)\n",
      "  (fc3): Linear(in_features=256, out_features=120, bias=True)\n",
      "  (fc4): Linear(in_features=120, out_features=84, bias=True)\n",
      "  (fc5): Linear(in_features=84, out_features=10, bias=True)\n",
>>>>>>> 910cea164d08598ef4332a4063a4aaaf2e08a68b
      ")\n"
     ]
    }
   ],
   "source": [
    "net = Net()\n",
<<<<<<< HEAD
    "net = nn.DataParallel(net)\n",
    "net = net.to(device)\n",
=======
>>>>>>> 910cea164d08598ef4332a4063a4aaaf2e08a68b
    "print(net)"
   ]
  },
  {
   "cell_type": "code",
<<<<<<< HEAD
   "execution_count": 17,
   "metadata": {},
   "outputs": [],
   "source": [
    "#list(net.parameters())"
=======
   "execution_count": 52,
   "metadata": {},
   "outputs": [],
   "source": [
    "#summary(net, (1, 28, 28))"
>>>>>>> 910cea164d08598ef4332a4063a4aaaf2e08a68b
   ]
  },
  {
   "cell_type": "code",
<<<<<<< HEAD
   "execution_count": 18,
   "metadata": {},
   "outputs": [
    {
     "name": "stdout",
     "output_type": "stream",
     "text": [
      "----------------------------------------------------------------\n",
      "        Layer (type)               Output Shape         Param #\n",
      "================================================================\n",
      "            Conv2d-1            [-1, 6, 24, 24]             156\n",
      "         MaxPool2d-2            [-1, 6, 12, 12]               0\n",
      "            Conv2d-3             [-1, 16, 8, 8]           2,416\n",
      "         MaxPool2d-4             [-1, 16, 4, 4]               0\n",
      "            Linear-5                  [-1, 120]          30,840\n",
      "            Linear-6                   [-1, 84]          10,164\n",
      "            Linear-7                   [-1, 10]             850\n",
      "               Net-8                   [-1, 10]               0\n",
      "================================================================\n",
      "Total params: 44,426\n",
      "Trainable params: 44,426\n",
      "Non-trainable params: 0\n",
      "----------------------------------------------------------------\n",
      "Input size (MB): 0.00\n",
      "Forward/backward pass size (MB): 0.04\n",
      "Params size (MB): 0.17\n",
      "Estimated Total Size (MB): 0.22\n",
      "----------------------------------------------------------------\n"
     ]
    }
   ],
   "source": [
    "summary(net, input_size=(1, 28, 28))"
   ]
  },
  {
   "cell_type": "code",
   "execution_count": 19,
=======
   "execution_count": null,
>>>>>>> 910cea164d08598ef4332a4063a4aaaf2e08a68b
   "metadata": {},
   "outputs": [],
   "source": [
    "writer.add_graph(net, X)\n",
    "writer.close()"
   ]
  },
  {
   "cell_type": "markdown",
   "metadata": {},
   "source": [
    "**Note:** Use `tensorboard --logdir=runs` command in the Terminal to view the TensorBoard"
   ]
  },
  {
<<<<<<< HEAD
   "cell_type": "markdown",
   "metadata": {},
   "source": [
    "## 7. Set optimizer"
   ]
  },
  {
   "cell_type": "code",
   "execution_count": 20,
   "metadata": {},
   "outputs": [],
   "source": [
    "lr = 0.001\n",
    "step_size = 10000\n",
    "gamma = 1"
   ]
  },
  {
   "cell_type": "code",
   "execution_count": 21,
   "metadata": {},
   "outputs": [],
   "source": [
    "criterion = nn.CrossEntropyLoss(reduction=\"mean\")\n",
    "#optimizer = optim.SGD(net.parameters(), lr=lr, momentum=0.9)\n",
    "optimizer = optim.Adam(net.parameters(), lr=lr)\n",
    "lr_scheduler = optim.lr_scheduler.StepLR(optimizer=optimizer, step_size=step_size, gamma=gamma)"
   ]
  },
  {
   "cell_type": "markdown",
   "metadata": {},
   "source": [
    "## 8. Train model"
   ]
  },
  {
   "cell_type": "code",
   "execution_count": 30,
   "metadata": {},
   "outputs": [],
   "source": [
    "epochs = 20\n",
    "print_every_n_epochs = 1"
   ]
  },
  {
   "cell_type": "code",
   "execution_count": null,
   "metadata": {},
   "outputs": [],
   "source": [
    "epoch_losses = []\n",
    "epoch_lrs = []\n",
    "iteration_losses = []\n",
    "iteration_lrs = []\n",
    "\n",
    "for epoch in tqdm(range(1, epochs+1)):\n",
    "    epoch_loss = 0\n",
    "    epoch_lr = 0\n",
    "    \n",
    "    for X, Y in tqdm(train_loader, desc=\"Epoch-{}\".format(epoch)):\n",
    "        X, Y = X.to(device), Y.to(device)\n",
    "        \n",
    "        optimizer.zero_grad()\n",
    "        Y_pred_logits = net(X)\n",
    "        loss = criterion(Y_pred_logits, Y)\n",
    "        loss.backward()\n",
    "        optimizer.step()\n",
    "        lr_scheduler.step()\n",
    "        \n",
    "        iteration_losses.append(loss.item())\n",
    "        iteration_lrs.append(lr_scheduler.get_lr()[0])\n",
    "        epoch_loss += loss.item()\n",
    "        epoch_lr += lr_scheduler.get_lr()[0]\n",
    "        \n",
    "    epoch_loss /= len(train_loader)\n",
    "    epoch_lr /= len(train_loader)\n",
    "    epoch_losses.append(epoch_loss)\n",
    "    epoch_lrs.append(epoch_lr)\n",
    "    \n",
    "    if epoch % print_every_n_epochs == 0:    \n",
    "        message = \"Epoch:{}    Loss:{}    LR:{}\".format(epoch, epoch_loss, epoch_lr)\n",
    "        print(message)\n",
    "        "
   ]
  },
  {
   "cell_type": "code",
   "execution_count": 32,
   "metadata": {},
   "outputs": [
    {
     "data": {
      "image/png": "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\n",
      "text/plain": [
       "<Figure size 1080x576 with 2 Axes>"
      ]
     },
     "metadata": {
      "needs_background": "light"
     },
     "output_type": "display_data"
    }
   ],
   "source": [
    "fig, (ax1, ax2) = plt.subplots(2, 1, sharex=True, figsize=(15, 8))\n",
    "ax1.plot(epoch_losses, marker=\"o\", markersize=5)\n",
    "ax1.set_title(\"Loss\")\n",
    "ax2.plot(epoch_lrs, marker=\"o\", markersize=5)\n",
    "ax2.set_title(\"LR\")\n",
    "plt.xlabel(\"Epochs\")\n",
    "plt.show()"
   ]
  },
  {
   "cell_type": "code",
   "execution_count": 33,
   "metadata": {
    "scrolled": true
   },
   "outputs": [
    {
     "data": {
      "image/png": "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\n",
      "text/plain": [
       "<Figure size 1080x576 with 2 Axes>"
      ]
     },
     "metadata": {
      "needs_background": "light"
     },
     "output_type": "display_data"
    }
   ],
   "source": [
    "fig, (ax1, ax2) = plt.subplots(2, 1, sharex=True, figsize=(15, 8))\n",
    "ax1.plot(iteration_losses[::100])\n",
    "ax1.set_title(\"Loss\")\n",
    "ax2.plot(iteration_lrs[::100])\n",
    "ax2.set_title(\"LR\")\n",
    "plt.xlabel(\"Iterations\")\n",
    "plt.show()"
   ]
  },
  {
   "cell_type": "code",
   "execution_count": 35,
   "metadata": {},
   "outputs": [
    {
     "data": {
      "image/png": "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\n",
      "text/plain": [
       "<Figure size 432x288 with 1 Axes>"
      ]
     },
     "metadata": {
      "needs_background": "light"
     },
     "output_type": "display_data"
    }
   ],
   "source": [
    "window = 10000\n",
    "pd.Series(iteration_losses).rolling(window=window).mean().iloc[window-1:].plot()\n",
    "plt.show()"
   ]
  },
  {
   "cell_type": "markdown",
   "metadata": {},
   "source": [
    "## 9. Test model"
   ]
  },
  {
   "cell_type": "code",
   "execution_count": 36,
   "metadata": {},
   "outputs": [
    {
     "data": {
      "application/vnd.jupyter.widget-view+json": {
       "model_id": "c7694d04b71b4e44b9684370a9730cf5",
       "version_major": 2,
       "version_minor": 0
      },
      "text/plain": [
       "HBox(children=(FloatProgress(value=0.0, max=15000.0), HTML(value='')))"
      ]
     },
     "metadata": {},
     "output_type": "display_data"
    },
    {
     "name": "stdout",
     "output_type": "stream",
     "text": [
      "\n"
     ]
    }
   ],
   "source": [
    "with torch.no_grad():\n",
    "    Y_train, Y_pred_train = [], []\n",
    "    for X_mb, Y_mb in tqdm(train_loader):\n",
    "        out = net(X_mb)\n",
    "        _, Y_pred_mb = torch. max(out, 1)\n",
    "        Y_train.extend(Y_mb.numpy().tolist())\n",
    "        Y_pred_train.extend(Y_pred_mb.numpy().tolist())"
   ]
  },
  {
   "cell_type": "code",
   "execution_count": 37,
   "metadata": {},
   "outputs": [
    {
     "data": {
      "application/vnd.jupyter.widget-view+json": {
       "model_id": "cec66717a4a8422b8828eb2d5cb5d06e",
       "version_major": 2,
       "version_minor": 0
      },
      "text/plain": [
       "HBox(children=(FloatProgress(value=0.0, max=2500.0), HTML(value='')))"
      ]
     },
     "metadata": {},
     "output_type": "display_data"
    },
    {
     "name": "stdout",
     "output_type": "stream",
     "text": [
      "\n"
     ]
    }
   ],
   "source": [
    "with torch.no_grad():\n",
    "    Y_test, Y_pred_test = [], []\n",
    "    for X_mb, Y_mb in tqdm(test_loader):\n",
    "        out = net(X_mb)\n",
    "        _, Y_pred_mb = torch. max(out, 1)\n",
    "        Y_test.extend(Y_mb.numpy().tolist())\n",
    "        Y_pred_test.extend(Y_pred_mb.numpy().tolist())"
   ]
  },
  {
   "cell_type": "code",
   "execution_count": 40,
   "metadata": {},
   "outputs": [
    {
     "name": "stdout",
     "output_type": "stream",
     "text": [
      "Train Accuracy: 0.9192833333333333\n",
      "Test Accuracy: 0.8952\n"
     ]
    }
   ],
   "source": [
    "train_accuracy = accuracy_score(Y_train, Y_pred_train)\n",
    "test_accuracy = accuracy_score(Y_test, Y_pred_test)\n",
    "print(\"Train Accuracy: {}\".format(train_accuracy))\n",
    "print(\"Test Accuracy: {}\".format(test_accuracy))"
   ]
  },
  {
   "cell_type": "code",
   "execution_count": 39,
   "metadata": {},
   "outputs": [
    {
     "data": {
      "image/png": "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\n",
      "text/plain": [
       "<Figure size 1080x360 with 4 Axes>"
      ]
     },
     "metadata": {
      "needs_background": "light"
     },
     "output_type": "display_data"
    }
   ],
   "source": [
    "labels = [label_to_name[str(i)] for i in range(10)]\n",
    "c_mat_train = confusion_matrix(Y_train, Y_pred_train)\n",
    "c_mat_test = confusion_matrix(Y_test, Y_pred_test)\n",
    "fig, (ax1, ax2) = plt.subplots(1, 2, figsize=(15, 5))\n",
    "sns.heatmap(c_mat_train, annot=True, fmt='d', ax=ax1, xticklabels=labels, yticklabels=labels)\n",
    "ax1.set_title('Train Data')\n",
    "ax1.set_xlabel('Predicted')\n",
    "ax1.set_ylabel('Actual')\n",
    "sns.heatmap(c_mat_test, annot=True, fmt='d', ax=ax2, xticklabels=labels, yticklabels=labels)\n",
    "ax2.set_title('Test Data')\n",
    "ax2.set_xlabel('Predicted')\n",
    "ax2.set_ylabel('Actual')\n",
    "plt.show()"
   ]
  },
  {
   "cell_type": "code",
   "execution_count": 49,
   "metadata": {},
   "outputs": [],
   "source": [
    "def compute_accuracies(c_mat):\n",
    "    accuracies = c_mat.astype('float') / c_mat.sum(axis=1)\n",
    "    accuracies = accuracies.diagonal()\n",
    "    accuracies = {k:v for k, v in zip(labels, accuracies)}\n",
    "    return accuracies"
   ]
  },
  {
   "cell_type": "code",
   "execution_count": 50,
   "metadata": {},
   "outputs": [
    {
     "data": {
      "text/plain": [
       "{'t-shirt': 0.9008333333333334,\n",
       " 'trouser': 0.9915,\n",
       " 'pullover': 0.8483333333333334,\n",
       " 'dress': 0.9135,\n",
       " 'coat': 0.9076666666666666,\n",
       " 'sandal': 0.9731666666666666,\n",
       " 'shirt': 0.7231666666666666,\n",
       " 'sneaker': 0.9838333333333333,\n",
       " 'bag': 0.9885,\n",
       " 'ankle_boot': 0.9623333333333334}"
      ]
     },
     "execution_count": 50,
     "metadata": {},
     "output_type": "execute_result"
    }
   ],
   "source": [
    "compute_accuracies(c_mat_train)"
   ]
  },
  {
   "cell_type": "code",
   "execution_count": 51,
   "metadata": {},
   "outputs": [
    {
     "data": {
      "text/plain": [
       "{'t-shirt': 0.867,\n",
       " 'trouser': 0.984,\n",
       " 'pullover': 0.799,\n",
       " 'dress': 0.893,\n",
       " 'coat': 0.89,\n",
       " 'sandal': 0.944,\n",
       " 'shirt': 0.664,\n",
       " 'sneaker': 0.97,\n",
       " 'bag': 0.979,\n",
       " 'ankle_boot': 0.962}"
      ]
     },
     "execution_count": 51,
     "metadata": {},
     "output_type": "execute_result"
    }
   ],
   "source": [
    "compute_accuracies(c_mat_test)"
   ]
  },
  {
=======
>>>>>>> 910cea164d08598ef4332a4063a4aaaf2e08a68b
   "cell_type": "code",
   "execution_count": null,
   "metadata": {},
   "outputs": [],
   "source": []
  }
 ],
 "metadata": {
  "kernelspec": {
   "display_name": "Python 3",
   "language": "python",
   "name": "python3"
  },
  "language_info": {
   "codemirror_mode": {
    "name": "ipython",
    "version": 3
   },
   "file_extension": ".py",
   "mimetype": "text/x-python",
   "name": "python",
   "nbconvert_exporter": "python",
   "pygments_lexer": "ipython3",
<<<<<<< HEAD
   "version": "3.6.9"
  }
 },
 "nbformat": 4,
 "nbformat_minor": 4
=======
   "version": "3.7.1"
  }
 },
 "nbformat": 4,
 "nbformat_minor": 2
>>>>>>> 910cea164d08598ef4332a4063a4aaaf2e08a68b
}
